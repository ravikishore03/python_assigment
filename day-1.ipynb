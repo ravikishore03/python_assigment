{
 "cells": [
  {
   "cell_type": "code",
   "execution_count": 1,
   "id": "4fb49573-5e58-4b50-a506-711948f1916e",
   "metadata": {},
   "outputs": [
    {
     "name": "stdout",
     "output_type": "stream",
     "text": [
      "Integer Variable: 10 Type: <class 'int'>\n",
      "Float Variable: 10.5 Type: <class 'float'>\n",
      "String Variable: Hello! Type: <class 'str'>\n",
      "Boolean Variable: True Type: <class 'bool'>\n"
     ]
    }
   ],
   "source": [
    "integer_variable = 10          \n",
    "float_variable = 10.5         \n",
    "string_variable = \"Hello!\"     \n",
    "boolean_variable = True        \n",
    "print(\"Integer Variable:\", integer_variable, \"Type:\", type(integer_variable))\n",
    "print(\"Float Variable:\", float_variable, \"Type:\", type(float_variable))\n",
    "print(\"String Variable:\", string_variable, \"Type:\", type(string_variable))\n",
    "print(\"Boolean Variable:\", boolean_variable, \"Type:\", type(boolean_variable))\n"
   ]
  },
  {
   "cell_type": "code",
   "execution_count": null,
   "id": "bce2ac72-fab8-47e3-9322-0579ffcf73b8",
   "metadata": {},
   "outputs": [],
   "source": []
  }
 ],
 "metadata": {
  "kernelspec": {
   "display_name": "Python 3 (ipykernel)",
   "language": "python",
   "name": "python3"
  },
  "language_info": {
   "codemirror_mode": {
    "name": "ipython",
    "version": 3
   },
   "file_extension": ".py",
   "mimetype": "text/x-python",
   "name": "python",
   "nbconvert_exporter": "python",
   "pygments_lexer": "ipython3",
   "version": "3.12.7"
  },
  "panel-cell-order": [
   "4e4287aa-8a1f-49b9-b68b-3deebf1314df",
   "dbe49cad-3b8a-45bd-87a3-6fba83e1e850",
   "5d47f650-92d0-4c88-843c-42defe694692",
   "6c4dea43-4483-4251-b687-a6e07af14b01",
   "79801743-d403-4f82-81c0-3004713a4e22",
   "a9237038-b1c6-4e52-b5e8-f87a99de4c19",
   "8ab7acaa-6528-4e26-8b52-d07dc8ddabe9",
   "81f65ec1-da47-443c-a83b-e40000e6efb7",
   "a1b17c27-9947-409e-82ae-9922dd972a6a",
   "75dd1457-97bc-438c-9d24-9c428886d3ff",
   "8381c9e8-3d1f-4a75-89ab-f7bfe907ae49"
  ]
 },
 "nbformat": 4,
 "nbformat_minor": 5
}
