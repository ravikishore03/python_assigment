{
 "cells": [
  {
   "cell_type": "code",
   "execution_count": 1,
   "id": "cb0f547f-403a-4717-a984-abadd2c29b7c",
   "metadata": {},
   "outputs": [
    {
     "data": {
      "text/plain": [
       "(10, 20, 50)"
      ]
     },
     "execution_count": 1,
     "metadata": {},
     "output_type": "execute_result"
    }
   ],
   "source": [
    "my_list = [10, 20, 30, 40, 50]\n",
    "first_element = my_list[0]     \n",
    "second_element = my_list[1]    \n",
    "last_element = my_list[-1]    \n",
    "first_element, second_element, last_element\n"
   ]
  },
  {
   "cell_type": "code",
   "execution_count": null,
   "id": "028ee04f-0ae9-4329-8a9a-ad127b31edbc",
   "metadata": {},
   "outputs": [],
   "source": []
  }
 ],
 "metadata": {
  "kernelspec": {
   "display_name": "Python 3 (ipykernel)",
   "language": "python",
   "name": "python3"
  },
  "language_info": {
   "codemirror_mode": {
    "name": "ipython",
    "version": 3
   },
   "file_extension": ".py",
   "mimetype": "text/x-python",
   "name": "python",
   "nbconvert_exporter": "python",
   "pygments_lexer": "ipython3",
   "version": "3.12.7"
  },
  "panel-cell-order": [
   "4e4287aa-8a1f-49b9-b68b-3deebf1314df",
   "dbe49cad-3b8a-45bd-87a3-6fba83e1e850",
   "5d47f650-92d0-4c88-843c-42defe694692",
   "6c4dea43-4483-4251-b687-a6e07af14b01",
   "79801743-d403-4f82-81c0-3004713a4e22",
   "a9237038-b1c6-4e52-b5e8-f87a99de4c19",
   "8ab7acaa-6528-4e26-8b52-d07dc8ddabe9",
   "81f65ec1-da47-443c-a83b-e40000e6efb7",
   "a1b17c27-9947-409e-82ae-9922dd972a6a",
   "75dd1457-97bc-438c-9d24-9c428886d3ff",
   "8381c9e8-3d1f-4a75-89ab-f7bfe907ae49"
  ]
 },
 "nbformat": 4,
 "nbformat_minor": 5
}
