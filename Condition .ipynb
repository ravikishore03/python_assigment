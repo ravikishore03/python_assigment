{
 "cells": [
  {
   "cell_type": "code",
   "execution_count": 10,
   "id": "599e25ca-2ea7-463e-bc90-1f9c733a76e0",
   "metadata": {},
   "outputs": [
    {
     "name": "stdout",
     "output_type": "stream",
     "text": [
      "odd\n"
     ]
    }
   ],
   "source": [
    "num = 13\n",
    "if num %2 == 0:\n",
    "    print(\"even\")\n",
    "else:\n",
    "    print(\"odd\")"
   ]
  },
  {
   "cell_type": "code",
   "execution_count": 12,
   "id": "148b5e81-bcae-49ba-9dfd-afe6ded1df1c",
   "metadata": {},
   "outputs": [
    {
     "name": "stdout",
     "output_type": "stream",
     "text": [
      "odd\n"
     ]
    }
   ],
   "source": [
    "print(\"even\") if num %2 == 0 else print(\"odd\")"
   ]
  },
  {
   "cell_type": "code",
   "execution_count": 16,
   "id": "820c9381-d8da-4930-9d18-d494b64fdc94",
   "metadata": {},
   "outputs": [
    {
     "name": "stdout",
     "output_type": "stream",
     "text": [
      "Positive\n"
     ]
    }
   ],
   "source": [
    "num = 6\n",
    "result = \"Positive\" if num > 0 else (\"Negative\" if num < 0 else \"Zero\")\n",
    "print(result)"
   ]
  },
  {
   "cell_type": "markdown",
   "id": "81109478-0fb3-4682-8e88-ce94818e09df",
   "metadata": {},
   "source": [
    "##List Comprehension"
   ]
  },
  {
   "cell_type": "code",
   "execution_count": 21,
   "id": "02b322b9-16d4-4f0f-89a7-9b70a4b0b611",
   "metadata": {},
   "outputs": [
    {
     "data": {
      "text/plain": [
       "[2, 4, 18, 20, 112, 178]"
      ]
     },
     "execution_count": 21,
     "metadata": {},
     "output_type": "execute_result"
    }
   ],
   "source": [
    "L =[1,2,9,10,56,89]\n",
    "[2*x for x in L]"
   ]
  },
  {
   "cell_type": "code",
   "execution_count": 23,
   "id": "7444eb7f-3743-49e2-b5b4-b3b3594c56a0",
   "metadata": {},
   "outputs": [
    {
     "data": {
      "text/plain": [
       "[2, 10, 56]"
      ]
     },
     "execution_count": 23,
     "metadata": {},
     "output_type": "execute_result"
    }
   ],
   "source": [
    "L =[1,2,9,10,56,89]\n",
    "[x for x in L if x%2 == 0]"
   ]
  },
  {
   "cell_type": "code",
   "execution_count": 25,
   "id": "a72e72c1-9686-47c4-9fdc-3a22ab2f5600",
   "metadata": {},
   "outputs": [
    {
     "data": {
      "text/plain": [
       "[1, 9, 89]"
      ]
     },
     "execution_count": 25,
     "metadata": {},
     "output_type": "execute_result"
    }
   ],
   "source": [
    "L =[1,2,9,10,56,89]\n",
    "[x for x in L if x%2 != 0]"
   ]
  },
  {
   "cell_type": "code",
   "execution_count": 29,
   "id": "d15ed638-4341-4b04-a996-653c0c47519a",
   "metadata": {},
   "outputs": [
    {
     "name": "stdout",
     "output_type": "stream",
     "text": [
      "27.833333333333332\n"
     ]
    }
   ],
   "source": [
    "L = [1, 2, 9, 10, 56, 89]\n",
    "avg = sum([x for x in L]) / len(L)\n",
    "print(avg)"
   ]
  },
  {
   "cell_type": "code",
   "execution_count": 31,
   "id": "d34333a2-16a7-4a5b-8e2d-177ea467b4be",
   "metadata": {},
   "outputs": [
    {
     "data": {
      "text/plain": [
       "27.833333333333332"
      ]
     },
     "execution_count": 31,
     "metadata": {},
     "output_type": "execute_result"
    }
   ],
   "source": [
    "L = [1, 2, 9, 10, 56, 89]\n",
    "sum([x for x in L])/len(L)"
   ]
  },
  {
   "cell_type": "code",
   "execution_count": 37,
   "id": "4514db75-70f2-4a87-b9c4-1e43ac264fd0",
   "metadata": {},
   "outputs": [
    {
     "data": {
      "text/plain": [
       "{'Ram': [70, 71, 98, 100], 'John': [56, 98, 67, 65]}"
      ]
     },
     "execution_count": 37,
     "metadata": {},
     "output_type": "execute_result"
    }
   ],
   "source": [
    "#Dictionary Comprehension\n",
    "d1 = {'Ram':[70,71,98,100], 'John':[56,98,67,65]}\n",
    "d1"
   ]
  },
  {
   "cell_type": "code",
   "execution_count": 41,
   "id": "7430f45e-6a24-4700-a604-67e587a2dd2e",
   "metadata": {},
   "outputs": [
    {
     "data": {
      "text/plain": [
       "{'Ram': 84.75, 'John': 71.5}"
      ]
     },
     "execution_count": 41,
     "metadata": {},
     "output_type": "execute_result"
    }
   ],
   "source": [
    "{k:sum(v)/len(v) for k,v in d1.items()}"
   ]
  },
  {
   "cell_type": "code",
   "execution_count": null,
   "id": "2b8f181c-d5ea-46af-bd1d-0c2c71b9d695",
   "metadata": {},
   "outputs": [],
   "source": []
  }
 ],
 "metadata": {
  "kernelspec": {
   "display_name": "Python [conda env:base] *",
   "language": "python",
   "name": "conda-base-py"
  },
  "language_info": {
   "codemirror_mode": {
    "name": "ipython",
    "version": 3
   },
   "file_extension": ".py",
   "mimetype": "text/x-python",
   "name": "python",
   "nbconvert_exporter": "python",
   "pygments_lexer": "ipython3",
   "version": "3.12.7"
  }
 },
 "nbformat": 4,
 "nbformat_minor": 5
}
